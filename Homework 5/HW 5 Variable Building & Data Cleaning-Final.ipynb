{
 "cells": [
  {
   "cell_type": "code",
   "execution_count": 1,
   "metadata": {},
   "outputs": [],
   "source": [
    "import pandas as pd\n",
    "import scipy.stats\n",
    "import numpy as np\n",
    "import datetime as dt\n",
    "import seaborn as sns\n",
    "import matplotlib.pyplot as plt\n",
    "%matplotlib inline\n",
    "start_time = pd.datetime.now()"
   ]
  },
  {
   "cell_type": "code",
   "execution_count": 2,
   "metadata": {},
   "outputs": [],
   "source": [
    "start = dt.datetime.now()"
   ]
  },
  {
   "cell_type": "code",
   "execution_count": 3,
   "metadata": {},
   "outputs": [],
   "source": [
    "data = pd.read_csv('applications data.csv')"
   ]
  },
  {
   "cell_type": "markdown",
   "metadata": {},
   "source": [
    "## Clean Frivolous ID Elements"
   ]
  },
  {
   "cell_type": "code",
   "execution_count": 4,
   "metadata": {
    "scrolled": true
   },
   "outputs": [
    {
     "data": {
      "text/plain": [
       "record             1000000\n",
       "date              20160816\n",
       "ssn              999999999\n",
       "firstname         EAMSTRMT\n",
       "lastname           ERJSAXA\n",
       "address        123 MAIN ST\n",
       "zip5                 68138\n",
       "dob               19070626\n",
       "homephone       9999999999\n",
       "fraud_label              0\n",
       "dtype: object"
      ]
     },
     "execution_count": 4,
     "metadata": {},
     "output_type": "execute_result"
    }
   ],
   "source": [
    "data.apply(lambda x:x.value_counts().reset_index().iloc[0,0])"
   ]
  },
  {
   "cell_type": "code",
   "execution_count": 5,
   "metadata": {},
   "outputs": [],
   "source": [
    "data.loc[data.ssn == 999999999,\"ssn\"] = -data.record\n",
    "data.loc[data.address == \"123 MAIN ST\",\"address\"] = -data.record\n",
    "data.loc[data.dob == 19070626,\"dob\"] = -data.record\n",
    "data.loc[data.homephone == 9999999999,\"homephone\"] = -data.record"
   ]
  },
  {
   "cell_type": "code",
   "execution_count": null,
   "metadata": {},
   "outputs": [],
   "source": [
    "break"
   ]
  },
  {
   "cell_type": "markdown",
   "metadata": {},
   "source": [
    "## Build Variables"
   ]
  },
  {
   "cell_type": "markdown",
   "metadata": {},
   "source": [
    "### 1. Create New Entitities & Combine Entities"
   ]
  },
  {
   "cell_type": "code",
   "execution_count": 6,
   "metadata": {},
   "outputs": [],
   "source": [
    "# Transform data type to string\n",
    "data['ssn'] = data['ssn'].astype(str)\n",
    "data['firstname'] = data['firstname'].astype(str)\n",
    "data['lastname'] = data['lastname'].astype(str)\n",
    "data['address'] = data['address'].astype(str)\n",
    "data['zip5'] = data['zip5'].astype(str)\n",
    "data['dob'] = data['dob'].astype(str)\n",
    "data['homephone'] = data['homephone'].astype(str)\n",
    "\n",
    "data['name'] = data['lastname'] + ', ' + data['firstname']\n",
    "data['addr'] = data['address'] + ', ' + data['zip5']\n",
    "\n",
    "data['name-dob'] = data['name'] + data['dob']\n",
    "data['name-addr'] = data['name'] + data['addr']\n",
    "data['name-homephone'] = data['name'] + data['homephone']\n",
    "data['dob-addr'] = data['dob'] + data['addr']\n",
    "data['dob-homephone'] = data['dob'] + data['homephone']\n",
    "data['addr-homephone'] = data['addr'] + data['homephone']\n",
    "\n",
    "data['name-dob-addr'] = data['name-dob'] + data['addr']\n",
    "data['name-dob-homephone'] = data['name-dob'] + data['homephone']\n",
    "data['name-addr-homephone'] = data['name-addr'] + data['homephone']\n",
    "data['dob-addr-homephone'] = data['dob-addr'] + data['homephone']\n",
    "\n",
    "data['name-dob-addr-homephone'] = data['name-dob-addr'] + data['homephone']\n",
    "\n",
    "for i in data.columns[3:9]:\n",
    "    data['ssn-{}'.format(i)] = data['ssn'] + data[i]\n",
    "\n",
    "for i in ['name','addr','name-dob']:\n",
    "    data['ssn-{}'.format(i)] = data['ssn'] + data[i]"
   ]
  },
  {
   "cell_type": "code",
   "execution_count": 7,
   "metadata": {},
   "outputs": [
    {
     "name": "stdout",
     "output_type": "stream",
     "text": [
      "26\n"
     ]
    }
   ],
   "source": [
    "attributes = list(data.columns)\n",
    "for col in ['record', 'date', 'firstname', 'lastname', 'zip5', 'fraud_label']:\n",
    "    attributes.remove(col)\n",
    "print(len(attributes))"
   ]
  },
  {
   "cell_type": "markdown",
   "metadata": {},
   "source": [
    "### 3. Velocity Variables"
   ]
  },
  {
   "cell_type": "code",
   "execution_count": 8,
   "metadata": {},
   "outputs": [
    {
     "data": {
      "text/plain": [
       "['ssn',\n",
       " 'address',\n",
       " 'dob',\n",
       " 'homephone',\n",
       " 'name',\n",
       " 'addr',\n",
       " 'name-dob',\n",
       " 'name-addr',\n",
       " 'name-homephone',\n",
       " 'dob-addr',\n",
       " 'dob-homephone',\n",
       " 'addr-homephone',\n",
       " 'name-dob-addr',\n",
       " 'name-dob-homephone',\n",
       " 'name-addr-homephone',\n",
       " 'dob-addr-homephone',\n",
       " 'name-dob-addr-homephone',\n",
       " 'ssn-firstname',\n",
       " 'ssn-lastname',\n",
       " 'ssn-address',\n",
       " 'ssn-zip5',\n",
       " 'ssn-dob',\n",
       " 'ssn-homephone',\n",
       " 'ssn-name',\n",
       " 'ssn-addr',\n",
       " 'ssn-name-dob']"
      ]
     },
     "execution_count": 8,
     "metadata": {},
     "output_type": "execute_result"
    }
   ],
   "source": [
    "attributes"
   ]
  },
  {
   "cell_type": "raw",
   "metadata": {},
   "source": [
    "  # why another bracket?\n",
    "        # add_prefix:\n",
    "        # For Series, the row labels are prefixed. For DataFrame, the column labels are prefixed.\n",
    "        \n",
    "        # getatrr:\n",
    "        # access the attribute value of an object\n",
    "        \n",
    "        # left_index/right_index:left_indexbool, default False\n",
    "        # Use the index from the left DataFrame as the join key(s). \n",
    "        # If it is a MultiIndex, the number of keys in the other DataFrame (either the index or a number of columns) must match the number of levels.\n",
    "        \n",
    "        # left join on the record column (as index)\n",
    "        # right join on the record column as index (after group by, record becomes the index)\n",
    "        # how: left, keep everything on the left (somte of them doesn't have a match at all)\n",
    "    \n",
    "         # the matched entity record should be in x days of the date(left table)\n",
    "        # the matched entity record should also have smaller record num then the record being assessed"
   ]
  },
  {
   "cell_type": "code",
   "execution_count": 9,
   "metadata": {},
   "outputs": [],
   "source": [
    "initialDF = data.copy()\n",
    "initialDF.date = pd.to_datetime(initialDF.date,format='%Y%m%d')\n",
    "finalDF = data.copy()\n",
    "\n",
    "myData1 = initialDF.copy()\n",
    "myData2 = initialDF.copy()\n",
    "\n",
    "myData2['join_ts1'] = myData2['date']\n",
    "\n",
    "for time_period in [0,1,3,7,14,30]:\n",
    "    name_end_time = 'join_ts2_' + str(time_period)\n",
    "    myData2[name_end_time] = myData2['date'] + dt.timedelta(time_period)"
   ]
  },
  {
   "cell_type": "code",
   "execution_count": 10,
   "metadata": {},
   "outputs": [
    {
     "name": "stderr",
     "output_type": "stream",
     "text": [
      "/Users/apple/anaconda3/lib/python3.7/site-packages/pandas/core/frame.py:4238: SettingWithCopyWarning: \n",
      "A value is trying to be set on a copy of a slice from a DataFrame\n",
      "\n",
      "See the caveats in the documentation: http://pandas.pydata.org/pandas-docs/stable/user_guide/indexing.html#returning-a-view-versus-a-copy\n",
      "  return super().rename(**kwargs)\n"
     ]
    }
   ],
   "source": [
    "for entity in attributes:\n",
    "    myData3 = myData1[['record','date',entity]]\n",
    "    myData4 = myData2[['record','join_ts1','join_ts2_0','join_ts2_1','join_ts2_3','join_ts2_7'\\\n",
    "                           ,'join_ts2_14','join_ts2_30',entity]]\n",
    "    myData4.rename(columns={'record':'record2'}, inplace=True)\n",
    "\n",
    "    tempDF = pd.merge(myData3,myData4,left_on=[entity], right_on = [entity])\n",
    "\n",
    "    for time_period in [0,1,3,7,14,30]:\n",
    "        name_end_time = 'join_ts2_' + str(time_period)\n",
    "        tempDF2 = tempDF[(tempDF['date'] <= tempDF[name_end_time])\\\n",
    "                            & (tempDF['record'] >= tempDF['record2'])]\n",
    "        temp_name = str(entity) + '_' + str(time_period) + '_'\n",
    "        groupby_count = tempDF2[['record','record2']].groupby(['record'])\\\n",
    "                            .size().reset_index(name = 'count').set_index('record').add_prefix(temp_name)     \n",
    "        finalDF = finalDF.merge(groupby_count,\\\n",
    "                              left_on = 'record', right_index = True,how = 'left')"
   ]
  },
  {
   "cell_type": "code",
   "execution_count": 11,
   "metadata": {},
   "outputs": [
    {
     "data": {
      "text/plain": [
       "(1000000, 188)"
      ]
     },
     "execution_count": 11,
     "metadata": {},
     "output_type": "execute_result"
    }
   ],
   "source": [
    "finalDF.shape"
   ]
  },
  {
   "cell_type": "markdown",
   "metadata": {},
   "source": [
    "### 4. Days Since"
   ]
  },
  {
   "cell_type": "code",
   "execution_count": 12,
   "metadata": {},
   "outputs": [],
   "source": [
    "# .dt.days --> turn x days to integer\n",
    "finalDF2 = finalDF.copy()\n",
    "finalDF2['date']= pd.to_datetime(finalDF2.date,format='%Y%m%d')\n",
    "sincedata = finalDF2.copy()\n",
    "\n",
    "for entity in attributes:\n",
    "    sincedata1 = sincedata[['record','date',entity]]\n",
    "    sincedata2 = sincedata1.copy()\n",
    "    sincedata2.rename(columns={'record':'record2','date':'date2'}, inplace=True)\n",
    "\n",
    "    match_entity2 = pd.merge(sincedata1,sincedata2,left_on = entity,right_on = entity)\n",
    "    match_record2 = match_entity2[match_entity2['record'] > match_entity2['record2']]\n",
    "    groupbydate = match_record2.sort_values([\"record\",\"record2\"],ascending = [True,False]).groupby('record').head(1)\n",
    "    # 或用GroupBy.last(self, **kwargs)[source] Compute last of group values.\n",
    "    # Returns Series or DataFrame Computed last of values within each group.\n",
    "    #  tmp = dff[(dff['record_x']>dff['record_y'])][['record_x','date_y']].\\\n",
    "    # groupby('record_x').last()['date_y'].reset_index()\n",
    "    \n",
    "    groupbydate = groupbydate[['record','date2']].set_index('record')\n",
    "    finalDF2 = finalDF2.merge(groupbydate,left_on = 'record', right_index = True,how = 'left')\n",
    "    # 直接on_record就不会重复出现record了\n",
    "    \n",
    "    finalDF2['date2'] = finalDF2['date2'].fillna(finalDF2['date'].min())\n",
    "    finalDF2['#day_since_{}'.format(entity)] = (finalDF2['date'] - finalDF2['date2']).dt.days\n",
    "    finalDF2.drop(columns=['date2'], inplace=True)    "
   ]
  },
  {
   "cell_type": "raw",
   "metadata": {},
   "source": [
    "sincedata = data.copy()\n",
    "finalDF2 = finalDF.copy()\n",
    "\n",
    "for entity in attributes:\n",
    "    sincedata1 = sincedata[['record','date',entity]]\n",
    "    sincedata2 = sincedata1.copy()\n",
    "    sincedata2.rename(columns={'record':'record2','date':'date2'}, inplace=True)\n",
    "\n",
    "    match_entity2 = pd.merge(sincedata1,sincedata2,left_on = entity,right_on = entity)\n",
    "    match_record2 = match_entity2[match_entity2['record'] > match_entity2['record2']]\n",
    "    groupbydate = match_record2.sort_values([\"record\",\"record2\"],ascending = [True,False]).groupby('record').head(1)\n",
    "    groupbydate['_#day_since'] = groupbydate['date'] -  groupbydate['date2'].apply(lambda x: '2016-01-01' if x == np.nan else x)\n",
    "    groupbydate2 = groupbydate[['record','_#day_since']].set_index('record').add_prefix(entity) \n",
    "    finalDF2 = finalDF2.merge(groupbydate2,\\\n",
    "                              left_on = 'record', right_index = True,how = 'left')"
   ]
  },
  {
   "cell_type": "code",
   "execution_count": 13,
   "metadata": {},
   "outputs": [
    {
     "data": {
      "text/plain": [
       "(1000000, 214)"
      ]
     },
     "execution_count": 13,
     "metadata": {},
     "output_type": "execute_result"
    }
   ],
   "source": [
    "finalDF2.shape"
   ]
  },
  {
   "cell_type": "markdown",
   "metadata": {},
   "source": [
    "### 5. Relative Velocity"
   ]
  },
  {
   "cell_type": "code",
   "execution_count": 14,
   "metadata": {},
   "outputs": [],
   "source": [
    "i = 1\n",
    "for j in [3,7,14,30]:\n",
    "    for entity in attributes:\n",
    "        numerator = '{}_{}_count'.format(entity,i)\n",
    "        dinominator = '{}_{}_count'.format(entity,j)\n",
    "        temp_name = '{}_{}_over_{}_avg'.format(entity,i,j)\n",
    "        finalDF2[temp_name] = finalDF2[numerator]/(finalDF2[dinominator]/j)"
   ]
  },
  {
   "cell_type": "code",
   "execution_count": 15,
   "metadata": {},
   "outputs": [
    {
     "data": {
      "text/plain": [
       "(1000000, 318)"
      ]
     },
     "execution_count": 15,
     "metadata": {},
     "output_type": "execute_result"
    }
   ],
   "source": [
    "finalDF2.shape"
   ]
  },
  {
   "cell_type": "markdown",
   "metadata": {},
   "source": [
    "### Risk Table"
   ]
  },
  {
   "cell_type": "code",
   "execution_count": 16,
   "metadata": {},
   "outputs": [],
   "source": [
    "finalDF2['date'] = pd.to_datetime(finalDF2.date,format='%Y%m%d')\n",
    "finalDF3 = finalDF2[finalDF2.date < '2016-11-01']"
   ]
  },
  {
   "cell_type": "code",
   "execution_count": 17,
   "metadata": {},
   "outputs": [
    {
     "name": "stderr",
     "output_type": "stream",
     "text": [
      "/Users/apple/anaconda3/lib/python3.7/site-packages/ipykernel_launcher.py:4: SettingWithCopyWarning: \n",
      "A value is trying to be set on a copy of a slice from a DataFrame.\n",
      "Try using .loc[row_indexer,col_indexer] = value instead\n",
      "\n",
      "See the caveats in the documentation: http://pandas.pydata.org/pandas-docs/stable/user_guide/indexing.html#returning-a-view-versus-a-copy\n",
      "  after removing the cwd from sys.path.\n",
      "/Users/apple/anaconda3/lib/python3.7/site-packages/ipykernel_launcher.py:10: SettingWithCopyWarning: \n",
      "A value is trying to be set on a copy of a slice from a DataFrame.\n",
      "Try using .loc[row_indexer,col_indexer] = value instead\n",
      "\n",
      "See the caveats in the documentation: http://pandas.pydata.org/pandas-docs/stable/user_guide/indexing.html#returning-a-view-versus-a-copy\n",
      "  # Remove the CWD from sys.path while we load stuff.\n"
     ]
    }
   ],
   "source": [
    "c=4\n",
    "nmid = 20\n",
    "y_avg = finalDF3['fraud_label'].mean()\n",
    "finalDF3['dow'] = finalDF3['date'].dt.dayofweek\n",
    "y_dow = finalDF3.groupby('dow')['fraud_label'].mean()\n",
    "num_instance_dow = finalDF3.groupby('dow').size()\n",
    "\n",
    "y_dow_smooth = y_avg + (y_dow - y_avg)/(1+np.exp(-(num_instance_dow - nmid)/c))\n",
    "\n",
    "finalDF3['dow_risk'] = finalDF3['dow'].map(y_dow_smooth)"
   ]
  },
  {
   "cell_type": "code",
   "execution_count": 18,
   "metadata": {},
   "outputs": [
    {
     "data": {
      "text/plain": [
       "Text(0.5,1,'Fraud Proportion of Each Weekday')"
      ]
     },
     "execution_count": 18,
     "metadata": {},
     "output_type": "execute_result"
    },
    {
     "data": {
      "image/png": "[encoded data removed]",
      "text/plain": [
       "<Figure size 720x360 with 1 Axes>"
      ]
     },
     "metadata": {
      "needs_background": "light"
     },
     "output_type": "display_data"
    }
   ],
   "source": [
    "plt.figure(figsize=(10,5))\n",
    "y_dow_smooth.plot(kind='bar')\n",
    "plt.xticks(range(7),['Monday','Tuesday','Wednesday','Thursday','Friday','Saturday','Sunday'],rotation = 60)\n",
    "\n",
    "plt.xlabel('Weekdays')\n",
    "plt.ylabel('Percentage')\n",
    "plt.title('Fraud Proportion of Each Weekday')"
   ]
  },
  {
   "cell_type": "code",
   "execution_count": 19,
   "metadata": {},
   "outputs": [],
   "source": [
    "finalDF4 = finalDF3[['record','dow_risk']].set_index('record')\n",
    "finalDF5 = finalDF2.merge(finalDF4,left_on = 'record',right_index = True, how = 'left')"
   ]
  },
  {
   "cell_type": "code",
   "execution_count": 20,
   "metadata": {},
   "outputs": [
    {
     "data": {
      "text/plain": [
       "(1000000, 319)"
      ]
     },
     "execution_count": 20,
     "metadata": {},
     "output_type": "execute_result"
    }
   ],
   "source": [
    "finalDF5.shape"
   ]
  },
  {
   "cell_type": "code",
   "execution_count": 21,
   "metadata": {},
   "outputs": [],
   "source": [
    "final = finalDF5.iloc[:,32:]\n",
    "final['fraud_label'] = finalDF2['fraud_label']"
   ]
  },
  {
   "cell_type": "code",
   "execution_count": 22,
   "metadata": {},
   "outputs": [
    {
     "data": {
      "text/plain": [
       "(1000000, 288)"
      ]
     },
     "execution_count": 22,
     "metadata": {},
     "output_type": "execute_result"
    }
   ],
   "source": [
    "final.shape"
   ]
  },
  {
   "cell_type": "code",
   "execution_count": 23,
   "metadata": {},
   "outputs": [
    {
     "data": {
      "text/plain": [
       "['ssn_0_count',\n",
       " 'ssn_1_count',\n",
       " 'ssn_3_count',\n",
       " 'ssn_7_count',\n",
       " 'ssn_14_count',\n",
       " 'ssn_30_count',\n",
       " 'address_0_count',\n",
       " 'address_1_count',\n",
       " 'address_3_count',\n",
       " 'address_7_count',\n",
       " 'address_14_count',\n",
       " 'address_30_count',\n",
       " 'dob_0_count',\n",
       " 'dob_1_count',\n",
       " 'dob_3_count',\n",
       " 'dob_7_count',\n",
       " 'dob_14_count',\n",
       " 'dob_30_count',\n",
       " 'homephone_0_count',\n",
       " 'homephone_1_count',\n",
       " 'homephone_3_count',\n",
       " 'homephone_7_count',\n",
       " 'homephone_14_count',\n",
       " 'homephone_30_count',\n",
       " 'name_0_count',\n",
       " 'name_1_count',\n",
       " 'name_3_count',\n",
       " 'name_7_count',\n",
       " 'name_14_count',\n",
       " 'name_30_count',\n",
       " 'addr_0_count',\n",
       " 'addr_1_count',\n",
       " 'addr_3_count',\n",
       " 'addr_7_count',\n",
       " 'addr_14_count',\n",
       " 'addr_30_count',\n",
       " 'name-dob_0_count',\n",
       " 'name-dob_1_count',\n",
       " 'name-dob_3_count',\n",
       " 'name-dob_7_count',\n",
       " 'name-dob_14_count',\n",
       " 'name-dob_30_count',\n",
       " 'name-addr_0_count',\n",
       " 'name-addr_1_count',\n",
       " 'name-addr_3_count',\n",
       " 'name-addr_7_count',\n",
       " 'name-addr_14_count',\n",
       " 'name-addr_30_count',\n",
       " 'name-homephone_0_count',\n",
       " 'name-homephone_1_count',\n",
       " 'name-homephone_3_count',\n",
       " 'name-homephone_7_count',\n",
       " 'name-homephone_14_count',\n",
       " 'name-homephone_30_count',\n",
       " 'dob-addr_0_count',\n",
       " 'dob-addr_1_count',\n",
       " 'dob-addr_3_count',\n",
       " 'dob-addr_7_count',\n",
       " 'dob-addr_14_count',\n",
       " 'dob-addr_30_count',\n",
       " 'dob-homephone_0_count',\n",
       " 'dob-homephone_1_count',\n",
       " 'dob-homephone_3_count',\n",
       " 'dob-homephone_7_count',\n",
       " 'dob-homephone_14_count',\n",
       " 'dob-homephone_30_count',\n",
       " 'addr-homephone_0_count',\n",
       " 'addr-homephone_1_count',\n",
       " 'addr-homephone_3_count',\n",
       " 'addr-homephone_7_count',\n",
       " 'addr-homephone_14_count',\n",
       " 'addr-homephone_30_count',\n",
       " 'name-dob-addr_0_count',\n",
       " 'name-dob-addr_1_count',\n",
       " 'name-dob-addr_3_count',\n",
       " 'name-dob-addr_7_count',\n",
       " 'name-dob-addr_14_count',\n",
       " 'name-dob-addr_30_count',\n",
       " 'name-dob-homephone_0_count',\n",
       " 'name-dob-homephone_1_count',\n",
       " 'name-dob-homephone_3_count',\n",
       " 'name-dob-homephone_7_count',\n",
       " 'name-dob-homephone_14_count',\n",
       " 'name-dob-homephone_30_count',\n",
       " 'name-addr-homephone_0_count',\n",
       " 'name-addr-homephone_1_count',\n",
       " 'name-addr-homephone_3_count',\n",
       " 'name-addr-homephone_7_count',\n",
       " 'name-addr-homephone_14_count',\n",
       " 'name-addr-homephone_30_count',\n",
       " 'dob-addr-homephone_0_count',\n",
       " 'dob-addr-homephone_1_count',\n",
       " 'dob-addr-homephone_3_count',\n",
       " 'dob-addr-homephone_7_count',\n",
       " 'dob-addr-homephone_14_count',\n",
       " 'dob-addr-homephone_30_count',\n",
       " 'name-dob-addr-homephone_0_count',\n",
       " 'name-dob-addr-homephone_1_count',\n",
       " 'name-dob-addr-homephone_3_count',\n",
       " 'name-dob-addr-homephone_7_count',\n",
       " 'name-dob-addr-homephone_14_count',\n",
       " 'name-dob-addr-homephone_30_count',\n",
       " 'ssn-firstname_0_count',\n",
       " 'ssn-firstname_1_count',\n",
       " 'ssn-firstname_3_count',\n",
       " 'ssn-firstname_7_count',\n",
       " 'ssn-firstname_14_count',\n",
       " 'ssn-firstname_30_count',\n",
       " 'ssn-lastname_0_count',\n",
       " 'ssn-lastname_1_count',\n",
       " 'ssn-lastname_3_count',\n",
       " 'ssn-lastname_7_count',\n",
       " 'ssn-lastname_14_count',\n",
       " 'ssn-lastname_30_count',\n",
       " 'ssn-address_0_count',\n",
       " 'ssn-address_1_count',\n",
       " 'ssn-address_3_count',\n",
       " 'ssn-address_7_count',\n",
       " 'ssn-address_14_count',\n",
       " 'ssn-address_30_count',\n",
       " 'ssn-zip5_0_count',\n",
       " 'ssn-zip5_1_count',\n",
       " 'ssn-zip5_3_count',\n",
       " 'ssn-zip5_7_count',\n",
       " 'ssn-zip5_14_count',\n",
       " 'ssn-zip5_30_count',\n",
       " 'ssn-dob_0_count',\n",
       " 'ssn-dob_1_count',\n",
       " 'ssn-dob_3_count',\n",
       " 'ssn-dob_7_count',\n",
       " 'ssn-dob_14_count',\n",
       " 'ssn-dob_30_count',\n",
       " 'ssn-homephone_0_count',\n",
       " 'ssn-homephone_1_count',\n",
       " 'ssn-homephone_3_count',\n",
       " 'ssn-homephone_7_count',\n",
       " 'ssn-homephone_14_count',\n",
       " 'ssn-homephone_30_count',\n",
       " 'ssn-name_0_count',\n",
       " 'ssn-name_1_count',\n",
       " 'ssn-name_3_count',\n",
       " 'ssn-name_7_count',\n",
       " 'ssn-name_14_count',\n",
       " 'ssn-name_30_count',\n",
       " 'ssn-addr_0_count',\n",
       " 'ssn-addr_1_count',\n",
       " 'ssn-addr_3_count',\n",
       " 'ssn-addr_7_count',\n",
       " 'ssn-addr_14_count',\n",
       " 'ssn-addr_30_count',\n",
       " 'ssn-name-dob_0_count',\n",
       " 'ssn-name-dob_1_count',\n",
       " 'ssn-name-dob_3_count',\n",
       " 'ssn-name-dob_7_count',\n",
       " 'ssn-name-dob_14_count',\n",
       " 'ssn-name-dob_30_count',\n",
       " '#day_since_ssn',\n",
       " '#day_since_address',\n",
       " '#day_since_dob',\n",
       " '#day_since_homephone',\n",
       " '#day_since_name',\n",
       " '#day_since_addr',\n",
       " '#day_since_name-dob',\n",
       " '#day_since_name-addr',\n",
       " '#day_since_name-homephone',\n",
       " '#day_since_dob-addr',\n",
       " '#day_since_dob-homephone',\n",
       " '#day_since_addr-homephone',\n",
       " '#day_since_name-dob-addr',\n",
       " '#day_since_name-dob-homephone',\n",
       " '#day_since_name-addr-homephone',\n",
       " '#day_since_dob-addr-homephone',\n",
       " '#day_since_name-dob-addr-homephone',\n",
       " '#day_since_ssn-firstname',\n",
       " '#day_since_ssn-lastname',\n",
       " '#day_since_ssn-address',\n",
       " '#day_since_ssn-zip5',\n",
       " '#day_since_ssn-dob',\n",
       " '#day_since_ssn-homephone',\n",
       " '#day_since_ssn-name',\n",
       " '#day_since_ssn-addr',\n",
       " '#day_since_ssn-name-dob',\n",
       " 'ssn_1_over_3_avg',\n",
       " 'address_1_over_3_avg',\n",
       " 'dob_1_over_3_avg',\n",
       " 'homephone_1_over_3_avg',\n",
       " 'name_1_over_3_avg',\n",
       " 'addr_1_over_3_avg',\n",
       " 'name-dob_1_over_3_avg',\n",
       " 'name-addr_1_over_3_avg',\n",
       " 'name-homephone_1_over_3_avg',\n",
       " 'dob-addr_1_over_3_avg',\n",
       " 'dob-homephone_1_over_3_avg',\n",
       " 'addr-homephone_1_over_3_avg',\n",
       " 'name-dob-addr_1_over_3_avg',\n",
       " 'name-dob-homephone_1_over_3_avg',\n",
       " 'name-addr-homephone_1_over_3_avg',\n",
       " 'dob-addr-homephone_1_over_3_avg',\n",
       " 'name-dob-addr-homephone_1_over_3_avg',\n",
       " 'ssn-firstname_1_over_3_avg',\n",
       " 'ssn-lastname_1_over_3_avg',\n",
       " 'ssn-address_1_over_3_avg',\n",
       " 'ssn-zip5_1_over_3_avg',\n",
       " 'ssn-dob_1_over_3_avg',\n",
       " 'ssn-homephone_1_over_3_avg',\n",
       " 'ssn-name_1_over_3_avg',\n",
       " 'ssn-addr_1_over_3_avg',\n",
       " 'ssn-name-dob_1_over_3_avg',\n",
       " 'ssn_1_over_7_avg',\n",
       " 'address_1_over_7_avg',\n",
       " 'dob_1_over_7_avg',\n",
       " 'homephone_1_over_7_avg',\n",
       " 'name_1_over_7_avg',\n",
       " 'addr_1_over_7_avg',\n",
       " 'name-dob_1_over_7_avg',\n",
       " 'name-addr_1_over_7_avg',\n",
       " 'name-homephone_1_over_7_avg',\n",
       " 'dob-addr_1_over_7_avg',\n",
       " 'dob-homephone_1_over_7_avg',\n",
       " 'addr-homephone_1_over_7_avg',\n",
       " 'name-dob-addr_1_over_7_avg',\n",
       " 'name-dob-homephone_1_over_7_avg',\n",
       " 'name-addr-homephone_1_over_7_avg',\n",
       " 'dob-addr-homephone_1_over_7_avg',\n",
       " 'name-dob-addr-homephone_1_over_7_avg',\n",
       " 'ssn-firstname_1_over_7_avg',\n",
       " 'ssn-lastname_1_over_7_avg',\n",
       " 'ssn-address_1_over_7_avg',\n",
       " 'ssn-zip5_1_over_7_avg',\n",
       " 'ssn-dob_1_over_7_avg',\n",
       " 'ssn-homephone_1_over_7_avg',\n",
       " 'ssn-name_1_over_7_avg',\n",
       " 'ssn-addr_1_over_7_avg',\n",
       " 'ssn-name-dob_1_over_7_avg',\n",
       " 'ssn_1_over_14_avg',\n",
       " 'address_1_over_14_avg',\n",
       " 'dob_1_over_14_avg',\n",
       " 'homephone_1_over_14_avg',\n",
       " 'name_1_over_14_avg',\n",
       " 'addr_1_over_14_avg',\n",
       " 'name-dob_1_over_14_avg',\n",
       " 'name-addr_1_over_14_avg',\n",
       " 'name-homephone_1_over_14_avg',\n",
       " 'dob-addr_1_over_14_avg',\n",
       " 'dob-homephone_1_over_14_avg',\n",
       " 'addr-homephone_1_over_14_avg',\n",
       " 'name-dob-addr_1_over_14_avg',\n",
       " 'name-dob-homephone_1_over_14_avg',\n",
       " 'name-addr-homephone_1_over_14_avg',\n",
       " 'dob-addr-homephone_1_over_14_avg',\n",
       " 'name-dob-addr-homephone_1_over_14_avg',\n",
       " 'ssn-firstname_1_over_14_avg',\n",
       " 'ssn-lastname_1_over_14_avg',\n",
       " 'ssn-address_1_over_14_avg',\n",
       " 'ssn-zip5_1_over_14_avg',\n",
       " 'ssn-dob_1_over_14_avg',\n",
       " 'ssn-homephone_1_over_14_avg',\n",
       " 'ssn-name_1_over_14_avg',\n",
       " 'ssn-addr_1_over_14_avg',\n",
       " 'ssn-name-dob_1_over_14_avg',\n",
       " 'ssn_1_over_30_avg',\n",
       " 'address_1_over_30_avg',\n",
       " 'dob_1_over_30_avg',\n",
       " 'homephone_1_over_30_avg',\n",
       " 'name_1_over_30_avg',\n",
       " 'addr_1_over_30_avg',\n",
       " 'name-dob_1_over_30_avg',\n",
       " 'name-addr_1_over_30_avg',\n",
       " 'name-homephone_1_over_30_avg',\n",
       " 'dob-addr_1_over_30_avg',\n",
       " 'dob-homephone_1_over_30_avg',\n",
       " 'addr-homephone_1_over_30_avg',\n",
       " 'name-dob-addr_1_over_30_avg',\n",
       " 'name-dob-homephone_1_over_30_avg',\n",
       " 'name-addr-homephone_1_over_30_avg',\n",
       " 'dob-addr-homephone_1_over_30_avg',\n",
       " 'name-dob-addr-homephone_1_over_30_avg',\n",
       " 'ssn-firstname_1_over_30_avg',\n",
       " 'ssn-lastname_1_over_30_avg',\n",
       " 'ssn-address_1_over_30_avg',\n",
       " 'ssn-zip5_1_over_30_avg',\n",
       " 'ssn-dob_1_over_30_avg',\n",
       " 'ssn-homephone_1_over_30_avg',\n",
       " 'ssn-name_1_over_30_avg',\n",
       " 'ssn-addr_1_over_30_avg',\n",
       " 'ssn-name-dob_1_over_30_avg',\n",
       " 'dow_risk',\n",
       " 'fraud_label']"
      ]
     },
     "execution_count": 23,
     "metadata": {},
     "output_type": "execute_result"
    }
   ],
   "source": [
    "list(final.columns)"
   ]
  },
  {
   "cell_type": "code",
   "execution_count": 24,
   "metadata": {},
   "outputs": [
    {
     "name": "stdout",
     "output_type": "stream",
     "text": [
      "Duration: 0:23:16.175760\n"
     ]
    }
   ],
   "source": [
    "print(\"Duration:\", dt.datetime.now()-start)"
   ]
  },
  {
   "cell_type": "code",
   "execution_count": 25,
   "metadata": {},
   "outputs": [
    {
     "data": {
      "text/html": [
       "<div>\n",
       "<style scoped>\n",
       "    .dataframe tbody tr th:only-of-type {\n",
       "        vertical-align: middle;\n",
       "    }\n",
       "\n",
       "    .dataframe tbody tr th {\n",
       "        vertical-align: top;\n",
       "    }\n",
       "\n",
       "    .dataframe thead th {\n",
       "        text-align: right;\n",
       "    }\n",
       "</style>\n",
       "<table border=\"1\" class=\"dataframe\">\n",
       "  <thead>\n",
       "    <tr style=\"text-align: right;\">\n",
       "      <th></th>\n",
       "      <th>ssn_0_count</th>\n",
       "      <th>ssn_1_count</th>\n",
       "      <th>ssn_3_count</th>\n",
       "      <th>ssn_7_count</th>\n",
       "      <th>ssn_14_count</th>\n",
       "      <th>ssn_30_count</th>\n",
       "      <th>address_0_count</th>\n",
       "      <th>address_1_count</th>\n",
       "      <th>address_3_count</th>\n",
       "      <th>address_7_count</th>\n",
       "      <th>...</th>\n",
       "      <th>ssn-lastname_1_over_30_avg</th>\n",
       "      <th>ssn-address_1_over_30_avg</th>\n",
       "      <th>ssn-zip5_1_over_30_avg</th>\n",
       "      <th>ssn-dob_1_over_30_avg</th>\n",
       "      <th>ssn-homephone_1_over_30_avg</th>\n",
       "      <th>ssn-name_1_over_30_avg</th>\n",
       "      <th>ssn-addr_1_over_30_avg</th>\n",
       "      <th>ssn-name-dob_1_over_30_avg</th>\n",
       "      <th>dow_risk</th>\n",
       "      <th>fraud_label</th>\n",
       "    </tr>\n",
       "  </thead>\n",
       "  <tbody>\n",
       "    <tr>\n",
       "      <th>count</th>\n",
       "      <td>1000000.000000</td>\n",
       "      <td>1000000.000000</td>\n",
       "      <td>1000000.000000</td>\n",
       "      <td>1000000.000000</td>\n",
       "      <td>1000000.000000</td>\n",
       "      <td>1000000.000000</td>\n",
       "      <td>1000000.000000</td>\n",
       "      <td>1000000.000000</td>\n",
       "      <td>1000000.000000</td>\n",
       "      <td>1000000.000000</td>\n",
       "      <td>...</td>\n",
       "      <td>1000000.000000</td>\n",
       "      <td>1000000.000000</td>\n",
       "      <td>1000000.000000</td>\n",
       "      <td>1000000.000000</td>\n",
       "      <td>1000000.000000</td>\n",
       "      <td>1000000.000000</td>\n",
       "      <td>1000000.000000</td>\n",
       "      <td>1000000.000000</td>\n",
       "      <td>833507.000000</td>\n",
       "      <td>1000000.000000</td>\n",
       "    </tr>\n",
       "    <tr>\n",
       "      <th>mean</th>\n",
       "      <td>1.007305</td>\n",
       "      <td>1.014924</td>\n",
       "      <td>1.020140</td>\n",
       "      <td>1.026348</td>\n",
       "      <td>1.034591</td>\n",
       "      <td>1.050823</td>\n",
       "      <td>1.011943</td>\n",
       "      <td>1.024667</td>\n",
       "      <td>1.033104</td>\n",
       "      <td>1.042545</td>\n",
       "      <td>...</td>\n",
       "      <td>29.579370</td>\n",
       "      <td>29.611788</td>\n",
       "      <td>29.610683</td>\n",
       "      <td>29.618639</td>\n",
       "      <td>29.629161</td>\n",
       "      <td>29.580967</td>\n",
       "      <td>29.612993</td>\n",
       "      <td>29.620751</td>\n",
       "      <td>0.014405</td>\n",
       "      <td>0.014393</td>\n",
       "    </tr>\n",
       "    <tr>\n",
       "      <th>std</th>\n",
       "      <td>0.223356</td>\n",
       "      <td>0.381210</td>\n",
       "      <td>0.423193</td>\n",
       "      <td>0.453557</td>\n",
       "      <td>0.477649</td>\n",
       "      <td>0.513331</td>\n",
       "      <td>0.283289</td>\n",
       "      <td>0.482950</td>\n",
       "      <td>0.544304</td>\n",
       "      <td>0.585750</td>\n",
       "      <td>...</td>\n",
       "      <td>2.518932</td>\n",
       "      <td>2.404854</td>\n",
       "      <td>2.408213</td>\n",
       "      <td>2.404527</td>\n",
       "      <td>2.352763</td>\n",
       "      <td>2.514285</td>\n",
       "      <td>2.401256</td>\n",
       "      <td>2.398072</td>\n",
       "      <td>0.000625</td>\n",
       "      <td>0.119104</td>\n",
       "    </tr>\n",
       "    <tr>\n",
       "      <th>min</th>\n",
       "      <td>1.000000</td>\n",
       "      <td>1.000000</td>\n",
       "      <td>1.000000</td>\n",
       "      <td>1.000000</td>\n",
       "      <td>1.000000</td>\n",
       "      <td>1.000000</td>\n",
       "      <td>1.000000</td>\n",
       "      <td>1.000000</td>\n",
       "      <td>1.000000</td>\n",
       "      <td>1.000000</td>\n",
       "      <td>...</td>\n",
       "      <td>1.764706</td>\n",
       "      <td>2.727273</td>\n",
       "      <td>2.727273</td>\n",
       "      <td>1.764706</td>\n",
       "      <td>2.727273</td>\n",
       "      <td>1.764706</td>\n",
       "      <td>2.727273</td>\n",
       "      <td>1.764706</td>\n",
       "      <td>0.013480</td>\n",
       "      <td>0.000000</td>\n",
       "    </tr>\n",
       "    <tr>\n",
       "      <th>25%</th>\n",
       "      <td>1.000000</td>\n",
       "      <td>1.000000</td>\n",
       "      <td>1.000000</td>\n",
       "      <td>1.000000</td>\n",
       "      <td>1.000000</td>\n",
       "      <td>1.000000</td>\n",
       "      <td>1.000000</td>\n",
       "      <td>1.000000</td>\n",
       "      <td>1.000000</td>\n",
       "      <td>1.000000</td>\n",
       "      <td>...</td>\n",
       "      <td>30.000000</td>\n",
       "      <td>30.000000</td>\n",
       "      <td>30.000000</td>\n",
       "      <td>30.000000</td>\n",
       "      <td>30.000000</td>\n",
       "      <td>30.000000</td>\n",
       "      <td>30.000000</td>\n",
       "      <td>30.000000</td>\n",
       "      <td>0.013674</td>\n",
       "      <td>0.000000</td>\n",
       "    </tr>\n",
       "    <tr>\n",
       "      <th>50%</th>\n",
       "      <td>1.000000</td>\n",
       "      <td>1.000000</td>\n",
       "      <td>1.000000</td>\n",
       "      <td>1.000000</td>\n",
       "      <td>1.000000</td>\n",
       "      <td>1.000000</td>\n",
       "      <td>1.000000</td>\n",
       "      <td>1.000000</td>\n",
       "      <td>1.000000</td>\n",
       "      <td>1.000000</td>\n",
       "      <td>...</td>\n",
       "      <td>30.000000</td>\n",
       "      <td>30.000000</td>\n",
       "      <td>30.000000</td>\n",
       "      <td>30.000000</td>\n",
       "      <td>30.000000</td>\n",
       "      <td>30.000000</td>\n",
       "      <td>30.000000</td>\n",
       "      <td>30.000000</td>\n",
       "      <td>0.014499</td>\n",
       "      <td>0.000000</td>\n",
       "    </tr>\n",
       "    <tr>\n",
       "      <th>75%</th>\n",
       "      <td>1.000000</td>\n",
       "      <td>1.000000</td>\n",
       "      <td>1.000000</td>\n",
       "      <td>1.000000</td>\n",
       "      <td>1.000000</td>\n",
       "      <td>1.000000</td>\n",
       "      <td>1.000000</td>\n",
       "      <td>1.000000</td>\n",
       "      <td>1.000000</td>\n",
       "      <td>1.000000</td>\n",
       "      <td>...</td>\n",
       "      <td>30.000000</td>\n",
       "      <td>30.000000</td>\n",
       "      <td>30.000000</td>\n",
       "      <td>30.000000</td>\n",
       "      <td>30.000000</td>\n",
       "      <td>30.000000</td>\n",
       "      <td>30.000000</td>\n",
       "      <td>30.000000</td>\n",
       "      <td>0.014981</td>\n",
       "      <td>0.000000</td>\n",
       "    </tr>\n",
       "    <tr>\n",
       "      <th>max</th>\n",
       "      <td>21.000000</td>\n",
       "      <td>34.000000</td>\n",
       "      <td>34.000000</td>\n",
       "      <td>34.000000</td>\n",
       "      <td>34.000000</td>\n",
       "      <td>34.000000</td>\n",
       "      <td>24.000000</td>\n",
       "      <td>30.000000</td>\n",
       "      <td>30.000000</td>\n",
       "      <td>30.000000</td>\n",
       "      <td>...</td>\n",
       "      <td>30.000000</td>\n",
       "      <td>30.000000</td>\n",
       "      <td>30.000000</td>\n",
       "      <td>30.000000</td>\n",
       "      <td>30.000000</td>\n",
       "      <td>30.000000</td>\n",
       "      <td>30.000000</td>\n",
       "      <td>30.000000</td>\n",
       "      <td>0.015169</td>\n",
       "      <td>1.000000</td>\n",
       "    </tr>\n",
       "  </tbody>\n",
       "</table>\n",
       "<p>8 rows × 288 columns</p>\n",
       "</div>"
      ],
      "text/plain": [
       "          ssn_0_count     ssn_1_count     ssn_3_count     ssn_7_count  \\\n",
       "count  1000000.000000  1000000.000000  1000000.000000  1000000.000000   \n",
       "mean         1.007305        1.014924        1.020140        1.026348   \n",
       "std          0.223356        0.381210        0.423193        0.453557   \n",
       "min          1.000000        1.000000        1.000000        1.000000   \n",
       "25%          1.000000        1.000000        1.000000        1.000000   \n",
       "50%          1.000000        1.000000        1.000000        1.000000   \n",
       "75%          1.000000        1.000000        1.000000        1.000000   \n",
       "max         21.000000       34.000000       34.000000       34.000000   \n",
       "\n",
       "         ssn_14_count    ssn_30_count  address_0_count  address_1_count  \\\n",
       "count  1000000.000000  1000000.000000   1000000.000000   1000000.000000   \n",
       "mean         1.034591        1.050823         1.011943         1.024667   \n",
       "std          0.477649        0.513331         0.283289         0.482950   \n",
       "min          1.000000        1.000000         1.000000         1.000000   \n",
       "25%          1.000000        1.000000         1.000000         1.000000   \n",
       "50%          1.000000        1.000000         1.000000         1.000000   \n",
       "75%          1.000000        1.000000         1.000000         1.000000   \n",
       "max         34.000000       34.000000        24.000000        30.000000   \n",
       "\n",
       "       address_3_count  address_7_count  ...  ssn-lastname_1_over_30_avg  \\\n",
       "count   1000000.000000   1000000.000000  ...              1000000.000000   \n",
       "mean          1.033104         1.042545  ...                   29.579370   \n",
       "std           0.544304         0.585750  ...                    2.518932   \n",
       "min           1.000000         1.000000  ...                    1.764706   \n",
       "25%           1.000000         1.000000  ...                   30.000000   \n",
       "50%           1.000000         1.000000  ...                   30.000000   \n",
       "75%           1.000000         1.000000  ...                   30.000000   \n",
       "max          30.000000        30.000000  ...                   30.000000   \n",
       "\n",
       "       ssn-address_1_over_30_avg  ssn-zip5_1_over_30_avg  \\\n",
       "count             1000000.000000          1000000.000000   \n",
       "mean                   29.611788               29.610683   \n",
       "std                     2.404854                2.408213   \n",
       "min                     2.727273                2.727273   \n",
       "25%                    30.000000               30.000000   \n",
       "50%                    30.000000               30.000000   \n",
       "75%                    30.000000               30.000000   \n",
       "max                    30.000000               30.000000   \n",
       "\n",
       "       ssn-dob_1_over_30_avg  ssn-homephone_1_over_30_avg  \\\n",
       "count         1000000.000000               1000000.000000   \n",
       "mean               29.618639                    29.629161   \n",
       "std                 2.404527                     2.352763   \n",
       "min                 1.764706                     2.727273   \n",
       "25%                30.000000                    30.000000   \n",
       "50%                30.000000                    30.000000   \n",
       "75%                30.000000                    30.000000   \n",
       "max                30.000000                    30.000000   \n",
       "\n",
       "       ssn-name_1_over_30_avg  ssn-addr_1_over_30_avg  \\\n",
       "count          1000000.000000          1000000.000000   \n",
       "mean                29.580967               29.612993   \n",
       "std                  2.514285                2.401256   \n",
       "min                  1.764706                2.727273   \n",
       "25%                 30.000000               30.000000   \n",
       "50%                 30.000000               30.000000   \n",
       "75%                 30.000000               30.000000   \n",
       "max                 30.000000               30.000000   \n",
       "\n",
       "       ssn-name-dob_1_over_30_avg       dow_risk     fraud_label  \n",
       "count              1000000.000000  833507.000000  1000000.000000  \n",
       "mean                    29.620751       0.014405        0.014393  \n",
       "std                      2.398072       0.000625        0.119104  \n",
       "min                      1.764706       0.013480        0.000000  \n",
       "25%                     30.000000       0.013674        0.000000  \n",
       "50%                     30.000000       0.014499        0.000000  \n",
       "75%                     30.000000       0.014981        0.000000  \n",
       "max                     30.000000       0.015169        1.000000  \n",
       "\n",
       "[8 rows x 288 columns]"
      ]
     },
     "execution_count": 25,
     "metadata": {},
     "output_type": "execute_result"
    }
   ],
   "source": [
    "statistics = final.describe()\n",
    "statistics"
   ]
  },
  {
   "cell_type": "code",
   "execution_count": 26,
   "metadata": {},
   "outputs": [],
   "source": [
    "statistics.to_csv('statistics.csv') "
   ]
  },
  {
   "cell_type": "code",
   "execution_count": 27,
   "metadata": {},
   "outputs": [],
   "source": [
    "final.to_csv('variables.csv') "
   ]
  },
  {
   "cell_type": "code",
   "execution_count": null,
   "metadata": {},
   "outputs": [],
   "source": [
    "# merge everything together\n",
    "# important to cut the size of table\n",
    "initialDF = data.copy()\n",
    "initialDF.date = pd.to_datetime(initialDF.date,format='%Y%m%d')\n",
    "final = initialDF[['record','date']]\n",
    "\n",
    "for entity in attributes:\n",
    "    myData1 = initialDF[['record','date',entity]]\n",
    "    myData2 = myData1.copy()\n",
    "    myData2.rename(columns={'record':'record2'}, inplace=True)\n",
    "    \n",
    "    # Count_past_days\n",
    "    # create timeperiod\n",
    "    for time_period in [0,1,3,7,14,30]:\n",
    "        name_end_time = 'join_ts2_' + str(time_period)\n",
    "        myData2[name_end_time] = myData2['date'] + dt.timedelta(time_period)\n",
    "    \n",
    "    tempDF = myData1.merge(myData2, on = entity)\n",
    "    # redundent: don't hvae to write left_on=[entity], right_on = [entity]\n",
    "    \n",
    "    for time_period in [0,1,3,7,14,30]:\n",
    "        tempDF2 = tempDF[(tempDF['date'] <= tempDF['join_ts2_{}'.format(time_period)])& (tempDF['record'] >= tempDF['record2'])]\n",
    "        # here. don't have to specify entity, can do it at last at one time\n",
    "        groupby_count = tempDF2[['record','record2']].groupby(['record']).size().reset_index(name = 'count_{}'.format(time_period)).set_index('record')   \n",
    "        finalDF = myData1.merge(groupby_count,left_on = 'record', right_index = True,how = 'left')\n",
    "        # here only merge table with record/date, not the whole table!!!! \n",
    "        # now finaldf: record,date,counts of one attribute in past x days\n",
    "        \n",
    "    # day since\n",
    "    # here, copy table, rename, merge etc are eliminated \n",
    "    # take only record 1 and 2 in match_record2 to min the size to groupby\n",
    "    match_record2 = tempDF[tempDF['record'] > tempDF['record2']][['record','record2']]\n",
    "    groupbydate = match_record2.sort_values([\"record\",\"record2\"],ascending = [True,False]).groupby('record').head(1)\n",
    "    # 或用groupby().last()\n",
    "    groupbydate = groupbydate[['record','date2']].set_index('record')\n",
    "    finalDF = finalDF.merge(groupbydate,left_on = 'record', right_index = True,how = 'left')\n",
    "    # 直接on_record就不会重复出现record了\n",
    "    finalDF['date2'] = finalDF['date2'].fillna(finalDF['date'].min())\n",
    "    finalDF['#day_since_{}'.format(entity)] = (finalDF['date'] - finalDF['date2']).dt.days\n",
    "    finalDF.drop(columns=[['date2']], inplace=True)  \n",
    "    \n",
    "    # relative\n",
    "    i = 1\n",
    "    for j in [3,7,14,30]:\n",
    "        numerator = '{}_count'.format(i)\n",
    "        dinominator = '{}_count'.format(j)\n",
    "        temp_name = '{}_over_{}_avg'.format(i,j)\n",
    "        finalDF[temp_name] = finalDF[numerator]/(finalDF[dinominator]/j)\n",
    "    \n",
    "    finalDF.drop(columns=['date',entity], inplace=True)\n",
    "    finalDF = finalDF.set_index('record')\n",
    "    # add prefix over here!!!!!\n",
    "    finalDF = finalDF.add_prefix('{}_'.format(entity))\n",
    "    final = final.merge(finalDF, left_on='record', right_index=True) "
   ]
  }
 ],
 "metadata": {
  "kernelspec": {
   "display_name": "Python 3",
   "language": "python",
   "name": "python3"
  },
  "language_info": {
   "codemirror_mode": {
    "name": "ipython",
    "version": 3
   },
   "file_extension": ".py",
   "mimetype": "text/x-python",
   "name": "python",
   "nbconvert_exporter": "python",
   "pygments_lexer": "ipython3",
   "version": "3.7.6"
  }
 },
 "nbformat": 4,
 "nbformat_minor": 2
}
